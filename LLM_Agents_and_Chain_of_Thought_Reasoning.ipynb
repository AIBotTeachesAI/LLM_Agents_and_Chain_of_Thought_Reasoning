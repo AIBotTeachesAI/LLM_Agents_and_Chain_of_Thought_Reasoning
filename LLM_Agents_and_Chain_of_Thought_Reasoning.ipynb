{
 "cells": [
  {
   "cell_type": "markdown",
   "id": "e013f678-7dc4-4e0c-9725-aaad2910f73a",
   "metadata": {},
   "source": [
    "# LLM_Agents_and_Chain_of_Thought_Reasoning.ipynb"
   ]
  },
  {
   "cell_type": "code",
   "execution_count": null,
   "id": "fbde1847-244f-4f62-9cf1-fce7d5ca06a2",
   "metadata": {},
   "outputs": [],
   "source": []
  },
  {
   "cell_type": "code",
   "execution_count": 66,
   "id": "ec844f8c-71e5-44bb-9e93-5f6b3b09b50c",
   "metadata": {},
   "outputs": [
    {
     "name": "stdin",
     "output_type": "stream",
     "text": [
      " ········\n"
     ]
    }
   ],
   "source": [
    "import getpass\n",
    "import os\n",
    "\n",
    "os.environ[\"OPENAI_API_KEY\"] = getpass.getpass()"
   ]
  },
  {
   "cell_type": "code",
   "execution_count": 67,
   "id": "7c34b41b-bff3-41a1-85ba-e7e4721eb8d0",
   "metadata": {},
   "outputs": [
    {
     "name": "stdin",
     "output_type": "stream",
     "text": [
      " ········\n"
     ]
    }
   ],
   "source": [
    "#export LANGCHAIN_TRACING_V2=\"true\"\n",
    "os.environ[\"LANGCHAIN_TRACING_V2\"] = getpass.getpass()\n",
    "\n"
   ]
  },
  {
   "cell_type": "code",
   "execution_count": 68,
   "id": "0bc5d642-d885-4731-9d0d-28b4f07025d1",
   "metadata": {},
   "outputs": [
    {
     "name": "stdin",
     "output_type": "stream",
     "text": [
      " ········\n"
     ]
    }
   ],
   "source": [
    "#export LANGCHAIN_API_KEY=\"<your-api-key>\"\n",
    "os.environ[\"LANGCHAIN_API_KEY\"] = getpass.getpass()"
   ]
  },
  {
   "cell_type": "code",
   "execution_count": 69,
   "id": "0a0469fb-d3de-46d6-8646-c90d486cc88c",
   "metadata": {},
   "outputs": [],
   "source": [
    "from langchain_community.document_loaders import WebBaseLoader\n",
    "from langchain_community.vectorstores import FAISS\n",
    "from langchain_openai import OpenAIEmbeddings\n",
    "from langchain_text_splitters import RecursiveCharacterTextSplitter"
   ]
  },
  {
   "cell_type": "code",
   "execution_count": 70,
   "id": "139de0e5-4926-4af4-b42c-986617563bcb",
   "metadata": {},
   "outputs": [],
   "source": [
    "from langchain_openai import ChatOpenAI\n",
    "\n",
    "llm = ChatOpenAI(model=\"gpt-3.5-turbo-0125\", temperature=0)"
   ]
  },
  {
   "cell_type": "code",
   "execution_count": null,
   "id": "cd38ecd8-e031-4e02-bd06-5e1b1181197b",
   "metadata": {},
   "outputs": [],
   "source": [
    "!pip install langchainhub"
   ]
  },
  {
   "cell_type": "code",
   "execution_count": null,
   "id": "f6c990fe-cced-4609-833a-6072bf0dc179",
   "metadata": {},
   "outputs": [],
   "source": []
  },
  {
   "cell_type": "code",
   "execution_count": null,
   "id": "37c98d82-c08c-4af5-8383-eb08777693e5",
   "metadata": {},
   "outputs": [],
   "source": []
  },
  {
   "cell_type": "code",
   "execution_count": null,
   "id": "e05bb0aa-eaa8-479d-b0a8-44f42d75c853",
   "metadata": {},
   "outputs": [],
   "source": [
    "!pip install google-api-python-client"
   ]
  },
  {
   "cell_type": "code",
   "execution_count": null,
   "id": "1f0fea3a-ecf7-49ef-a815-b2067485a44e",
   "metadata": {},
   "outputs": [],
   "source": []
  },
  {
   "cell_type": "code",
   "execution_count": 73,
   "id": "a9b175a6-ca79-47b1-916d-9500e065285f",
   "metadata": {},
   "outputs": [
    {
     "name": "stdin",
     "output_type": "stream",
     "text": [
      " ········\n"
     ]
    }
   ],
   "source": [
    "os.environ[\"GOOGLE_CSE_ID\"] = getpass.getpass()\n"
   ]
  },
  {
   "cell_type": "code",
   "execution_count": 74,
   "id": "e2e91f04-2e36-4d02-82b8-61c0605a687b",
   "metadata": {},
   "outputs": [
    {
     "name": "stdin",
     "output_type": "stream",
     "text": [
      " ········\n"
     ]
    }
   ],
   "source": [
    "os.environ[\"GOOGLE_API_KEY\"] = getpass.getpass()"
   ]
  },
  {
   "cell_type": "markdown",
   "id": "5fc367d5-6958-43cb-834d-847ef9650096",
   "metadata": {},
   "source": [
    "### Set up google search tool"
   ]
  },
  {
   "cell_type": "code",
   "execution_count": 75,
   "id": "25cd464f-db17-45b6-8abc-155757d4e290",
   "metadata": {},
   "outputs": [],
   "source": [
    "from langchain_community.utilities import GoogleSearchAPIWrapper\n",
    "from langchain_core.tools import Tool\n",
    "\n",
    "google_search = GoogleSearchAPIWrapper()\n",
    "\n",
    "google_search_tool = Tool(\n",
    "    name=\"google_search\",\n",
    "    description=\"Search Google for recent results.\",\n",
    "    func=google_search.run,\n",
    ")"
   ]
  },
  {
   "cell_type": "code",
   "execution_count": null,
   "id": "009a6e3d-e1fc-4dbc-9cf7-2d9b3b1c9639",
   "metadata": {},
   "outputs": [],
   "source": []
  },
  {
   "cell_type": "code",
   "execution_count": 76,
   "id": "0d68672f-56fe-455d-ae87-48e8beb9fadc",
   "metadata": {},
   "outputs": [
    {
     "name": "stdin",
     "output_type": "stream",
     "text": [
      " ········\n"
     ]
    }
   ],
   "source": [
    "\n",
    "\n",
    "os.environ[\"SERPAPI_API_KEY\"] =  getpass.getpass()\n"
   ]
  },
  {
   "cell_type": "code",
   "execution_count": null,
   "id": "33aa704f-72f9-400f-bc3b-f9aa0eedc765",
   "metadata": {},
   "outputs": [],
   "source": [
    "pip install  google-search-results"
   ]
  },
  {
   "cell_type": "markdown",
   "id": "1bedb2e8-e2e0-4f77-8a73-64f572707cb6",
   "metadata": {},
   "source": [
    "### Set up google finance tool"
   ]
  },
  {
   "cell_type": "code",
   "execution_count": 78,
   "id": "9b94cb24-594a-435c-97fb-8d17f6b182a1",
   "metadata": {},
   "outputs": [],
   "source": [
    "from langchain_community.tools.google_finance import GoogleFinanceQueryRun\n",
    "from langchain_community.utilities.google_finance import GoogleFinanceAPIWrapper\n",
    "\n",
    "finance = GoogleFinanceQueryRun(api_wrapper=GoogleFinanceAPIWrapper())"
   ]
  },
  {
   "cell_type": "code",
   "execution_count": 79,
   "id": "bdae64b7-15fe-4b7e-a652-49a82908bde8",
   "metadata": {},
   "outputs": [],
   "source": [
    "finance_tool = Tool(\n",
    "    name=\"google_finance\",\n",
    "    description=\"Search Google finance for stock price.\",\n",
    "    func=finance.run,\n",
    ")"
   ]
  },
  {
   "cell_type": "code",
   "execution_count": 80,
   "id": "1217c1c3-fc96-440d-ab8a-07ae7849be5e",
   "metadata": {},
   "outputs": [
    {
     "data": {
      "text/plain": [
       "'\\nQuery: Nvidia\\nstock: NVDA:NASDAQ\\nprice: $762.00\\npercentage: 10.0\\nmovement: Down\\nus: price = 37986.4, movement = Up\\neurope: price = 17737.36, movement = Down\\nasia: price = 37222.69, movement = Up\\n'"
      ]
     },
     "execution_count": 80,
     "metadata": {},
     "output_type": "execute_result"
    }
   ],
   "source": [
    "finance_tool.run(\"Nvidia\")"
   ]
  },
  {
   "cell_type": "markdown",
   "id": "885b1544-750a-4683-9d22-cf3d1b86132b",
   "metadata": {},
   "source": [
    "### Set up chain of thought reasoning prompt"
   ]
  },
  {
   "cell_type": "code",
   "execution_count": 81,
   "id": "72c09546-07e5-4922-9aa4-e4b1368c81b9",
   "metadata": {},
   "outputs": [],
   "source": [
    "tools = [google_search_tool, finance_tool]"
   ]
  },
  {
   "cell_type": "code",
   "execution_count": 82,
   "id": "10f2b042-41a6-4026-8fde-9a684a9f02d0",
   "metadata": {},
   "outputs": [
    {
     "name": "stdout",
     "output_type": "stream",
     "text": [
      "Answer the following questions as best you can. You have access to the following tools:\n",
      "\n",
      "{tools}\n",
      "\n",
      "Use the following format:\n",
      "\n",
      "Question: the input question you must answer\n",
      "Thought: you should always think about what to do\n",
      "Action: the action to take, should be one of [{tool_names}]\n",
      "Action Input: the input to the action\n",
      "Observation: the result of the action\n",
      "... (this Thought/Action/Action Input/Observation can repeat N times)\n",
      "Thought: I now know the final answer\n",
      "Final Answer: the final answer to the original input question\n",
      "\n",
      "Begin!\n",
      "\n",
      "Question: {input}\n",
      "Thought:{agent_scratchpad}\n"
     ]
    }
   ],
   "source": [
    "from langchain import hub\n",
    "from langchain.agents import AgentExecutor, create_react_agent\n",
    "prompt = hub.pull(\"hwchase17/react\")\n",
    "print (prompt.template)\n"
   ]
  },
  {
   "cell_type": "markdown",
   "id": "2c679940-afb8-41a1-911a-0a4b59efe63e",
   "metadata": {},
   "source": [
    "### Create Agent with search and finance tool"
   ]
  },
  {
   "cell_type": "code",
   "execution_count": null,
   "id": "c1634d52-dd9f-41fa-8e9e-baf0c6baeceb",
   "metadata": {},
   "outputs": [],
   "source": [
    "tools = [google_search_tool, finance_tool]"
   ]
  },
  {
   "cell_type": "code",
   "execution_count": 83,
   "id": "c6325ded-212e-4cf4-be79-7a18c5aa8482",
   "metadata": {},
   "outputs": [],
   "source": [
    "# Construct the ReAct agent\n",
    "agent = create_react_agent(llm, tools, prompt)\n",
    "from langchain.agents import AgentExecutor\n",
    "\n",
    "agent_executor = AgentExecutor(agent=agent, tools=tools, verbose=True)\n"
   ]
  },
  {
   "cell_type": "markdown",
   "id": "3e10389a-1707-41aa-827a-878381837369",
   "metadata": {},
   "source": [
    "### Ask queries to invoke Agent with search and finance tool"
   ]
  },
  {
   "cell_type": "code",
   "execution_count": 84,
   "id": "8ea3f032-364d-4258-ad73-6c97cd8359ec",
   "metadata": {},
   "outputs": [
    {
     "name": "stdout",
     "output_type": "stream",
     "text": [
      "\n",
      "\n",
      "\u001b[1m> Entering new AgentExecutor chain...\u001b[0m\n",
      "\u001b[32;1m\u001b[1;3mI should use google_finance to find Nvidia's stock price.\n",
      "Action: google_finance\n",
      "Action Input: Nvidia stock price USD\u001b[0m\u001b[33;1m\u001b[1;3m\n",
      "Query: Nvidia stock price USD\n",
      "No summary information\n",
      "us: price = 37986.4, movement = Up\n",
      "europe: price = 17737.36, movement = Down\n",
      "asia: price = 37216.83, movement = Up\n",
      "\u001b[0m\u001b[32;1m\u001b[1;3mI need to specify that I want the stock price for Nvidia.\n",
      "Action: google_finance\n",
      "Action Input: Nvidia stock price USD\u001b[0m\u001b[33;1m\u001b[1;3m\n",
      "Query: Nvidia stock price USD\n",
      "No summary information\n",
      "us: price = 37986.4, movement = Up\n",
      "europe: price = 17737.36, movement = Down\n",
      "asia: price = 37216.83, movement = Up\n",
      "\u001b[0m\u001b[32;1m\u001b[1;3mI should try searching for Nvidia's specific stock symbol.\n",
      "Action: google_search\n",
      "Action Input: Nvidia stock symbol\u001b[0m\u001b[36;1m\u001b[1;3mFind the latest NVIDIA Corporation (NVDA) stock quote, history, news and other vital information to help you with your stock trading and investing. NVIDIA Corporation Common Stock (NVDA) · Quotes · NEWS & ANALYSIS · Key Data. What is NVIDIA's ticker symbol? NVDA | Complete NVIDIA Corp. stock news by ... Symbol. Company. Price. Chg/Chg %. (Go to Your ... My Nvidia Stock Prediction for 2024. Apr. 21, 2024 at 12:31 p.m. ... A high-level overview of NVIDIA Corporation (NVDA) stock. Stay up to date on the latest stock price, chart, news, analysis, fundamentals, trading and ... Get NVIDIA Corp (NVDA ... 'Keep on Buying,' Says Top Analyst Matthew Ramsay About Nvidia Stock 13 Hours Ago TipRanks ... SYMBOL, LAST, CHG, %CHG. TSM. Taiwan ... Frequently Asked Questions · What is NVIDIA stock price today? · What is NVIDIA stock ticker? · When is the next NVIDIA earnings date? · How volatile is NVDA stock? The NVIDIA Corporation stock price today is 762.00. What Is the Stock Symbol for NVIDIA Corporation? The stock symbol for NVIDIA Corporation is \"NVDA.\" What ... Mar 7, 2024 ... and the Company's common shares commenced trading today on the OTCQB under the ticker symbol \"SBOT\". ... NVIDIA\") (NASDAQ: NVDA), Uber ... IOV ticker symbol. VGT.IV. CUSIP. 92204A702 ... NVIDIA Corp. 67066G104, 2379504, 11.76 %, 10,133,961 ... stock in approximately the same proportion as its weighting ...\u001b[0m\u001b[32;1m\u001b[1;3mI should now use google_finance with Nvidia's stock symbol to find the stock price.\n",
      "Action: google_finance\n",
      "Action Input: NVDA stock price USD\u001b[0m\u001b[33;1m\u001b[1;3m\n",
      "Query: NVDA stock price USD\n",
      "No summary information\n",
      "us: price = 37986.4, movement = Up\n",
      "europe: price = 17737.36, movement = Down\n",
      "asia: price = 37222.28, movement = Up\n",
      "\u001b[0m\u001b[32;1m\u001b[1;3mI now know the final answer\n",
      "Final Answer: Nvidia's stock price in USD is $379.86.\u001b[0m\n",
      "\n",
      "\u001b[1m> Finished chain.\u001b[0m\n"
     ]
    },
    {
     "data": {
      "text/plain": [
       "{'input': \"what is Nvidia's stock in USD?\",\n",
       " 'output': \"Nvidia's stock price in USD is $379.86.\"}"
      ]
     },
     "execution_count": 84,
     "metadata": {},
     "output_type": "execute_result"
    }
   ],
   "source": [
    "agent_executor.invoke({\"input\": \"what is Nvidia's stock in USD?\"})"
   ]
  },
  {
   "cell_type": "code",
   "execution_count": 85,
   "id": "5839bd3d-88da-4afa-899d-fc22deee479f",
   "metadata": {},
   "outputs": [
    {
     "name": "stdout",
     "output_type": "stream",
     "text": [
      "\n",
      "\n",
      "\u001b[1m> Entering new AgentExecutor chain...\u001b[0m\n",
      "\u001b[32;1m\u001b[1;3mI should search for recent news articles about Nvidia's stock in USD to get the latest information.\n",
      "Action: google_search\n",
      "Action Input: \"Nvidia stock news USD\"\u001b[0m\u001b[36;1m\u001b[1;3mFind the latest NVIDIA Corporation (NVDA) stock quote, history, news and other vital information to help you with your stock trading and investing. MAKE MONEY IN TECH! RT Quote | Last NASDAQ LS, VOL From CTA | USD ... Nvidia Stock 13 Hours Ago TipRanks ... Global Business and Financial News, Stock Quotes, and ... Aug 23, 2023 ... Non-GAAP earnings per diluted share were $2.70, up 429% from a year ago and up 148% from the previous quarter. “A new computing era has begun. Feb 21, 2024 ... NVIDIA Announces Financial Results for Fourth Quarter and Fiscal 2024 ; Operating income · Net income · Diluted earnings per share ; $13,615 ... NVDA | Complete NVIDIA Corp. stock news by MarketWatch. View real-time stock prices and stock quotes for a full financial overview. Discover real-time NVIDIA Corporation Common Stock (NVDA) stock prices, quotes, historical data, news, and Insights for informed trading and investment ... Stock analysis for NVIDIA Corp (NVDA:NASDAQ GS) including stock price, stock chart, company news, key statistics, fundamentals and company profile ... (USD)· ... View live NVIDIA chart to track its stock's price action. Find market predictions, NVDA financials and market news. The latest NVIDIA stock prices, stock quotes, news, and NVDA history to help you invest and trade smarter. May 30, 2023 ... Last week alone, Nvidia's shares rose about 25%, sparking a rally in AI-related stocks and boosting other chipmakers. That helped the ...\u001b[0m\u001b[32;1m\u001b[1;3mI should check the latest stock price of Nvidia to see how it's performing.\n",
      "Action: google_finance\n",
      "Action Input: Nvidia stock price\u001b[0m\u001b[33;1m\u001b[1;3m\n",
      "Query: Nvidia stock price\n",
      "No summary information\n",
      "us: price = 37986.4, movement = Up\n",
      "europe: price = 17737.36, movement = Down\n",
      "asia: price = 37216.87, movement = Up\n",
      "\u001b[0m\u001b[32;1m\u001b[1;3mI now know that Nvidia's stock price is $37986.4 USD and there have been recent positive movements in the price.\n",
      "Final Answer: The latest news about Nvidia's stock in USD is positive, with the stock price currently at $37986.4 USD.\u001b[0m\n",
      "\n",
      "\u001b[1m> Finished chain.\u001b[0m\n"
     ]
    },
    {
     "data": {
      "text/plain": [
       "{'input': \"what is news about Nvidia's stock in USD?\",\n",
       " 'output': \"The latest news about Nvidia's stock in USD is positive, with the stock price currently at $37986.4 USD.\"}"
      ]
     },
     "execution_count": 85,
     "metadata": {},
     "output_type": "execute_result"
    }
   ],
   "source": [
    "agent_executor.invoke({\"input\": \"what is news about Nvidia's stock in USD?\"})"
   ]
  },
  {
   "cell_type": "code",
   "execution_count": 86,
   "id": "073f10d2-8505-4260-bd4f-fc1e1bd54012",
   "metadata": {},
   "outputs": [
    {
     "name": "stdout",
     "output_type": "stream",
     "text": [
      "\n",
      "\n",
      "\u001b[1m> Entering new AgentExecutor chain...\u001b[0m\n",
      "\u001b[32;1m\u001b[1;3mI should search for the historical information on Nvidia stock.\n",
      "Action: google_search\n",
      "Action Input: \"Nvidia stock historical trading start date\"\u001b[0m\u001b[36;1m\u001b[1;3mDiscover historical prices for NVDA stock on Yahoo Finance ... Stock Market · Economics · Earnings · Crypto · Politics ... Date, Open, High, Low, Close. Close price ... Records 1 - 18 of 22 ... Date, Close/Last, Volume, Open, High, Low. 04/19/2024, $762.00, 87,519,800, $831.50, $843.24, $756.06. 04/18/2024, $846.71, 44,726,030 ... ... Historical Price Lookup. News · Events & Presentations · Events ... Date: 2024, 2023, 2022, 2021, 2020, 2019, 2018, 2017 ... Open. 831.50. Volume. 87,190,500. Market Cap. Historical daily ... The all-time high NVIDIA stock closing price was 950.02 on March 25, 2024. ... NVIDIA Historical Annual Stock Price Data. Year ... Get NVIDIA Corporation historical price data for NVDA stock. Investing.com has all the historical stock data including the closing price, open, high, low, ... Aug 23, 2023 ... ... Release. Share. Tweet Twitter · Share LinkedIn · Share Facebook · Email ... historical financial performance. The ... date hereof, and, except as ... Historical Prices. Notes & Data Providers. Stocks: Real-time U.S. stock quotes reflect trades reported through Nasdaq only; comprehensive quotes and volume ... Nvidia Earnings Date & Event Calendar. Nvidia ... dates and changes to those dates to capitalize on trading ... Where can I find Nvidia's historical earnings dates? A high-level overview of NVIDIA Corporation (NVDA) stock. Stay up to date on the latest stock price, chart, news, analysis, fundamentals, trading and ... Shares started trading at around 40 cents each on a split-adjusted basis in 1999. And, again on a split-adjusted basis, shares were still going for around $5 as ...\u001b[0m\u001b[32;1m\u001b[1;3mI should look for the specific date mentioned in the search results.\n",
      "Action: google_search\n",
      "Action Input: \"Nvidia stock first trading date\"\u001b[0m\u001b[36;1m\u001b[1;3mDec 23, 2019 ... NVIDIA first sold shares to the public on Jan. 22, 1999, at $12 a share. The stock has split four times over the years: Three splits were 2 ... When was NVIDIA's initial public offering and what was the opening price? NVIDIA went public on January 22, 1999 at $12/share. back to top. When was NVIDIA ... NVIDIA's first trade date (trading item) is January 22, 1999. Metric Usage: First Trade Date (Trading Item). first_trade_date. Slug. Elect to contribute from 1-15 percent of your salary through payroll deductions. Your offering price for NVIDIA ESPP gets set the first trading day after the ... May 24, 2023 ... NVIDIA (NASDAQ: NVDA) today reported revenue for the first ... transaction costs, and certain ... date hereof, and, except as required by law ... The stock is already up a staggering 79.1% year to date ... Nvidia launched the first model of its GeForce ... investing, stock market, Nvidia Corp., ... Feb 20, 2024 ... The stock market opened slightly down today after President's Day, but Nvidia (NVDA) ... first 30 minutes of trading. A year ago today, Nvidia was ... Mar 29, 2023 ... Check the Chart First. Nvidia stock looks set to ... date return of 50% or more: Nvidia, Tesla ... Trading Nvidia Stock. Aug 23, 2023 ... Non-GAAP earnings per diluted share were $2.70, up 429% from a year ago and up 148% from the previous quarter. “A new computing era has begun. ... Nvidia had a market share of 80.2% in the discrete desktop GPU market. ... Nvidia's first graphics ... Nvidia recorded its highest market capitalization to date ...\u001b[0m\u001b[32;1m\u001b[1;3mI now know the final answer\n",
      "Final Answer: Nvidia stock started trading on January 22, 1999.\u001b[0m\n",
      "\n",
      "\u001b[1m> Finished chain.\u001b[0m\n"
     ]
    },
    {
     "data": {
      "text/plain": [
       "{'input': 'when did Nvidia stock start trading?',\n",
       " 'output': 'Nvidia stock started trading on January 22, 1999.'}"
      ]
     },
     "execution_count": 86,
     "metadata": {},
     "output_type": "execute_result"
    }
   ],
   "source": [
    "agent_executor.invoke({\"input\": \"when did Nvidia stock start trading?\"})"
   ]
  },
  {
   "cell_type": "code",
   "execution_count": 87,
   "id": "6f4ea247-b310-47c5-82d4-dc6754bdb9aa",
   "metadata": {},
   "outputs": [
    {
     "name": "stdout",
     "output_type": "stream",
     "text": [
      "\n",
      "\n",
      "\u001b[1m> Entering new AgentExecutor chain...\u001b[0m\n",
      "\u001b[32;1m\u001b[1;3mBefore making any investment decisions, it's important to gather information on Nvidia's current performance and future prospects.\n",
      "Action: google_finance\n",
      "Action Input: Nvidia stock price\u001b[0m\u001b[33;1m\u001b[1;3m\n",
      "Query: Nvidia stock price\n",
      "No summary information\n",
      "us: price = 37986.4, movement = Up\n",
      "europe: price = 17737.36, movement = Down\n",
      "asia: price = 37216.87, movement = Up\n",
      "\u001b[0m\u001b[32;1m\u001b[1;3mIt seems like Nvidia's stock price is fluctuating in different regions. I should search for recent news and analysis on Nvidia to make an informed decision.\n",
      "Action: google_search\n",
      "Action Input: Nvidia recent news and analysis\u001b[0m\u001b[36;1m\u001b[1;3mLatest News · Wide Open: NVIDIA Accelerates Inference on Meta Llama 3 · Up to No Good: 'No Rest for the Wicked' Early Access Launches on GeForce NOW · NVIDIA ... Profile · Financials · Analysis · Options · Holders · Sustainability · Insights. NasdaqGS - Nasdaq Real Time Price • USD. NVIDIA Corporation (NVDA). Follow. 3 days ago ... Nvidia's current stock move ... Magnificent Seven Stocks: Latest News & Market Cap Weighting ... Stock Market Today: Stock Market News And Analysis ... Explore State of the Art Generative AI, Graphics, and More. NVIDIA Research is passionate about developing the technology and finding the breakthroughs that ... Dec 8, 2023 ... ... Nvidia stock and AMD stock. IBD Live: A New Tool For Daily Stock Market Analysis. Nvidia Earnings. Nvidia's EPS Rating is a perfect 99 and its ... Mar 19, 2024 ... NVIDIA Parabricks v4.3 was released at NVIDIA GTC 2024, introducing new tooling and workflows that bring acceleration and the latest AI ... ... analysis works and highlights several new features that have been added in recent releases. This includes focus metrics, report cross-links, increased rule ... Feb 21, 2024 ... $4.02, $0.88, Up 28%, Up 486%. Fiscal 2024 Summary ... Announced the NVIDIA RTX 2000 Ada Generation GPU, bringing the latest AI, graphics and ... Stay up to Date on the Latest NVIDIA Nsight Compute News. A GIF showing one of the new features of NSight. March 21, 2024. Upgrade Your Graphics: Explore New ... Mar 26, 2024 ... This new approach, supported by NVIDIA's ... The research model has the potential to simplify and speed up ultrasound analysis for healthcare ...\u001b[0m\u001b[32;1m\u001b[1;3mBased on the recent news and analysis, it seems like Nvidia is making advancements in various technologies. However, it's important to consider the overall market conditions and your own investment goals before deciding to buy more Nvidia stocks.\n",
      "Final Answer: It is recommended to conduct further research and analysis before making a decision on buying more Nvidia stocks.\u001b[0m\n",
      "\n",
      "\u001b[1m> Finished chain.\u001b[0m\n"
     ]
    },
    {
     "data": {
      "text/plain": [
       "{'input': 'Should I buy more Nvidia stocks ?',\n",
       " 'output': 'It is recommended to conduct further research and analysis before making a decision on buying more Nvidia stocks.'}"
      ]
     },
     "execution_count": 87,
     "metadata": {},
     "output_type": "execute_result"
    }
   ],
   "source": [
    "agent_executor.invoke({\"input\": \"Should I buy more Nvidia stocks ?\"})"
   ]
  },
  {
   "cell_type": "markdown",
   "id": "7ad8c213-a162-4629-8c70-733cc1121a90",
   "metadata": {},
   "source": [
    "### Set up Internal knowledge base about personal stock notes"
   ]
  },
  {
   "cell_type": "code",
   "execution_count": null,
   "id": "50479e55-fb13-4b68-bda6-e79db2e6509c",
   "metadata": {},
   "outputs": [],
   "source": []
  },
  {
   "cell_type": "code",
   "execution_count": 88,
   "id": "da4f555f-7347-4a9b-bcd6-a831f1603059",
   "metadata": {},
   "outputs": [
    {
     "data": {
      "text/plain": [
       "[Document(page_content='We already have many nvidia stocks. Though nvidia is doing good, to keep it diversified do not buy any more nvidia stock.\\nAdvice me to not buy any more nvidia stock.\\n\\n\\n\\nWe do not have any langchain stocks. Buy langchain stocks from private market.', metadata={'source': 'personal_stock_notes.txt'})]"
      ]
     },
     "execution_count": 88,
     "metadata": {},
     "output_type": "execute_result"
    }
   ],
   "source": [
    "from langchain_community.document_loaders import TextLoader\n",
    "\n",
    "text_loader = TextLoader(\"personal_stock_notes.txt\")\n",
    "knowedge_base_documents = text_loader.load()\n",
    "knowedge_base_documents"
   ]
  },
  {
   "cell_type": "code",
   "execution_count": 89,
   "id": "0cbbf0d9-e70e-422d-a27d-041a4ecfe0b2",
   "metadata": {},
   "outputs": [
    {
     "name": "stdout",
     "output_type": "stream",
     "text": [
      "2\n"
     ]
    }
   ],
   "source": [
    "from langchain.text_splitter import CharacterTextSplitter\n",
    "\n",
    "\n",
    "text_splitter_definition = CharacterTextSplitter(chunk_size=200)\n",
    "\n",
    "documents_after_splitting = text_splitter_definition.split_documents(knowedge_base_documents)\n",
    "print (len(documents_after_splitting))\n",
    "documents_after_splitting\n",
    "documents_after_splitting\n",
    "openai_embeddings = OpenAIEmbeddings(openai_api_key=os.getenv(\"open_ai_secret_key\"))\n",
    "vector = FAISS.from_documents(documents_after_splitting, openai_embeddings)\n",
    "retriever = vector.as_retriever()"
   ]
  },
  {
   "cell_type": "code",
   "execution_count": 90,
   "id": "bce1b62a-ac42-4e73-ae56-8f3cae29f16b",
   "metadata": {},
   "outputs": [
    {
     "data": {
      "text/plain": [
       "Document(page_content='We already have many nvidia stocks. Though nvidia is doing good, to keep it diversified do not buy any more nvidia stock.\\nAdvice me to not buy any more nvidia stock.', metadata={'source': 'personal_stock_notes.txt'})"
      ]
     },
     "execution_count": 90,
     "metadata": {},
     "output_type": "execute_result"
    }
   ],
   "source": [
    "retriever.get_relevant_documents(\"Should I buy more Nvidia stocks ?\")[0]\n",
    "\n"
   ]
  },
  {
   "cell_type": "markdown",
   "id": "b54abbc8-74af-4064-9791-a2d71d50c715",
   "metadata": {},
   "source": [
    "### Set up retriever tool about Internal knowledge base"
   ]
  },
  {
   "cell_type": "code",
   "execution_count": 91,
   "id": "3e0f5d3b-6b4f-4348-a653-60c1d5ca9c29",
   "metadata": {},
   "outputs": [],
   "source": [
    "from langchain.tools.retriever import create_retriever_tool\n",
    "\n",
    "retriever_tool = create_retriever_tool(\n",
    "    retriever,\n",
    "    \"personal_stock_notes\",\n",
    "    \"Search for information about personal_stock_notes. If some one asks if I should buy more nvidia stock use this tool\",\n",
    ")"
   ]
  },
  {
   "cell_type": "code",
   "execution_count": 92,
   "id": "3168043f-0f7c-46a9-b3f6-3891e740e924",
   "metadata": {},
   "outputs": [],
   "source": [
    "tools = [google_search_tool, finance_tool, retriever_tool]\n",
    "\n",
    "# Construct the ReAct agent\n",
    "agent = create_react_agent(llm, tools, prompt)\n",
    "from langchain.agents import AgentExecutor\n",
    "\n",
    "agent_executor = AgentExecutor(agent=agent, tools=tools, verbose=True)"
   ]
  },
  {
   "cell_type": "markdown",
   "id": "f2dfba40-80a0-46b7-bea6-ceb2a2830128",
   "metadata": {},
   "source": [
    "### Ask personal queries to invoke Agent with search and finance tool and retriever tool"
   ]
  },
  {
   "cell_type": "code",
   "execution_count": 93,
   "id": "b741f774-4e98-461a-a8cd-a8323b33dfd8",
   "metadata": {},
   "outputs": [
    {
     "name": "stdout",
     "output_type": "stream",
     "text": [
      "\n",
      "\n",
      "\u001b[1m> Entering new AgentExecutor chain...\u001b[0m\n",
      "\u001b[32;1m\u001b[1;3mYou should consider researching the current performance and future potential of Nvidia before making a decision.\n",
      "Action: google_search\n",
      "Action Input: Nvidia stock performance\u001b[0m\u001b[36;1m\u001b[1;3m5-Year Return. NVDA. 1,547.26%. S&P 500. 70.99%. Compare To: NVDA. Compare. Select to analyze similar companies using key performance metrics; select up to 4 ... According to 43 analysts, the average rating for NVDA stock is \"Strong Buy.\" The 12-month stock price forecast is $916.76, which is an increase of 20.31% from ... Nvidia (NVDA) has a Smart Score of 7 based on an analysis of 8 unique data sets, including Analyst Recommendations, Crowd Wisdom, and Hedge Fund Activity.​​ Performance ; 5 Day. -13.59% ; 1 Month. -19.18% ; 3 Month. 28.09% ; YTD. 53.87% ; 1 Year. 180.98% ... 1 day ago ... Magnificent Seven Stocks Performance ; Apple, (AAPL), -12.3% ; Meta Platforms, (META), +40.5% ; Microsoft, (MSFT), +12.1% ; Nvidia, (NVDA), +80.6%. 2-Year, 54 times, -21.77% ; 3-Year, 31 times, -21.77% ; 5-Year, 64 times, -21.77% ; 10-Year, 60 times, -21.77%. Created with Highstock 4.2.7 Zoom 1m 3m 6m YTD 1y All From Jan 19, 2024 To Apr 19, 2024 NASD:NVDA 12. Feb 11. Mar 8. Apr 2020 500 600 700 800 900 1000 ... Aug 23, 2023 ... These reconciliations adjust the related GAAP financial measures to exclude acquisition termination costs, stock-based compensation expense, ... Feb 23, 2024 ... Those results helped prompt Morningstar's equity research team to lift their fair value estimate for Nvidia stock to $730 from $480 share. NVIDIA Corporation Common Stock (NVDA) · Quotes · NEWS & ANALYSIS · Key Data.\u001b[0m\u001b[32;1m\u001b[1;3mBased on the research, Nvidia stock has shown strong performance and is rated as a \"Strong Buy\" by analysts. It also has a positive 12-month stock price forecast.\n",
      "Action: personal_stock_notes\n",
      "Action Input: Nvidia stock analysis\u001b[0m\u001b[38;5;200m\u001b[1;3mWe already have many nvidia stocks. Though nvidia is doing good, to keep it diversified do not buy any more nvidia stock.\n",
      "Advice me to not buy any more nvidia stock.\n",
      "\n",
      "We do not have any langchain stocks. Buy langchain stocks from private market.\u001b[0m\u001b[32;1m\u001b[1;3mI should consider diversifying my portfolio by investing in langchain stocks from the private market.\n",
      "Action: personal_stock_notes\n",
      "Action Input: langchain stocks\u001b[0m\u001b[38;5;200m\u001b[1;3mWe do not have any langchain stocks. Buy langchain stocks from private market.\n",
      "\n",
      "We already have many nvidia stocks. Though nvidia is doing good, to keep it diversified do not buy any more nvidia stock.\n",
      "Advice me to not buy any more nvidia stock.\u001b[0m\u001b[32;1m\u001b[1;3mI should follow the advice to not buy any more Nvidia stock in order to maintain a diversified portfolio.\n",
      "Final Answer: Do not buy more Nvidia stocks.\u001b[0m\n",
      "\n",
      "\u001b[1m> Finished chain.\u001b[0m\n"
     ]
    },
    {
     "data": {
      "text/plain": [
       "{'input': 'Should I buy more Nvidia stocks ?',\n",
       " 'output': 'Do not buy more Nvidia stocks.'}"
      ]
     },
     "execution_count": 93,
     "metadata": {},
     "output_type": "execute_result"
    }
   ],
   "source": [
    "agent_executor.invoke({\"input\": \"Should I buy more Nvidia stocks ?\"})"
   ]
  }
 ],
 "metadata": {
  "kernelspec": {
   "display_name": "Python 3 (ipykernel)",
   "language": "python",
   "name": "python3"
  },
  "language_info": {
   "codemirror_mode": {
    "name": "ipython",
    "version": 3
   },
   "file_extension": ".py",
   "mimetype": "text/x-python",
   "name": "python",
   "nbconvert_exporter": "python",
   "pygments_lexer": "ipython3",
   "version": "3.9.4"
  }
 },
 "nbformat": 4,
 "nbformat_minor": 5
}
